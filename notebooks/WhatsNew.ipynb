{
 "cells": [
  {
   "cell_type": "markdown",
   "metadata": {},
   "source": [
    "<h2>What's New in Vantage Modules for Jupyter 3.0</h2>\n",
    "<p>"
   ]
  },
  {
   "cell_type": "markdown",
   "metadata": {},
   "source": [
    "<h4>The following new features are provided in this release:</h4>\n",
    " <ul>\n",
    "    <li><b>Support for JupyterLab 3.0</b></li>\n",
    "    <li><b>Navigator Enhancements</b></li>\n",
    "      <ul>\n",
    "        <li>Add connection profiles directly from the Navigator.</li>\n",
    "          <li><b>Refresh</b> right-click options at connection, database, table and view levels.</li>\n",
    "      </ul>  \n",
    "    <li><b>Data Load Enhancements</b></li>\n",
    "        <ul>\n",
    "          <li>FastLoad support for loading data up to 500,000 rows.</li>\n",
    "          <li>Database parameter is optional on %dataload magic, default database will be used.</li>\n",
    "        </ul>  \n",
    "    <li><b>History Enhancements</b></li>\n",
    "        <ul>\n",
    "            <li>Filter history display by connection, command or status.</li>\n",
    "        </ul>  \n",
    "    <li>Support for suppressing database warnings on a connection available on %connect magic (hidewarnings=true)</li>\n",
    "  </ul>    "
   ]
  },
  {
   "cell_type": "markdown",
   "metadata": {},
   "source": [
    "#### Refer to the GettingStarted notebook for more information on the new features."
   ]
  },
  {
   "cell_type": "markdown",
   "metadata": {},
   "source": [
    "Copyright 2021 Teradata. All rights reserved."
   ]
  }
 ],
 "metadata": {
  "kernelspec": {
   "display_name": "Teradata SQL",
   "language": "Teradata SQL",
   "name": "teradatasql"
  },
  "language_info": {
   "codemirror_mode": "Teradata SQL",
   "file_extension": ".tdrs",
   "mimetype": "application/vnd.teradata.resultset",
   "name": "Teradata SQL",
   "nbconvert_exporter": "",
   "pygments_lexer": "",
   "version": "16.20"
  },
  "toc-autonumbering": false,
  "toc-showcode": false,
  "toc-showmarkdowntxt": false,
  "toc-showtags": false
 },
 "nbformat": 4,
 "nbformat_minor": 4
}
