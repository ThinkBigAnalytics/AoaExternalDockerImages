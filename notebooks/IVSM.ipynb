{
 "cells": [
  {
   "cell_type": "markdown",
   "metadata": {},
   "source": [
    "# iVSM Demo"
   ]
  },
  {
   "cell_type": "code",
   "execution_count": null,
   "metadata": {},
   "outputs": [],
   "source": [
    "import os\n",
    "import time\n",
    "import pandas as pd\n",
    "\n",
    "from sklearn2pmml.pipeline import PMMLPipeline\n",
    "from sklearn2pmml import sklearn2pmml\n",
    "from sklearn.ensemble import RandomForestClassifier\n",
    "\n",
    "from teradataml import create_context\n",
    "from teradataml.context.context import get_connection\n",
    "from teradataml.dataframe.copy_to import copy_to_sql"
   ]
  },
  {
   "cell_type": "markdown",
   "metadata": {},
   "source": [
    "### Setup connection"
   ]
  },
  {
   "cell_type": "code",
   "execution_count": null,
   "metadata": {},
   "outputs": [],
   "source": [
    "engine = create_context(host=\"host.docker.internal\", username=\"ivsm_user\", password=\"ivsm_user\")\n",
    "conn = get_connection()\n",
    "cursor = engine.raw_connection().cursor()"
   ]
  },
  {
   "cell_type": "markdown",
   "metadata": {},
   "source": [
    "### Read and upload dataset to Vantage"
   ]
  },
  {
   "cell_type": "code",
   "execution_count": null,
   "metadata": {},
   "outputs": [],
   "source": [
    "iris_df = pd.read_csv(\"https://gist.githubusercontent.com/netj/8836201/raw/6f9306ad21398ea43cba4f7d537619d0e07d5ae3/iris.csv\")\n",
    "iris_df.columns = [\"sepal_length\", \"sepal_width\", \"petal_length\", \"petal_width\", \"species\"]\n",
    "\n",
    "iris_df.head()"
   ]
  },
  {
   "cell_type": "code",
   "execution_count": null,
   "metadata": {},
   "outputs": [],
   "source": [
    "from teradataml.dataframe.copy_to import copy_to_sql\n",
    "from teradataml.dataframe.dataframe import DataFrame\n",
    "\n",
    "df = DataFrame(\"iris_train\")"
   ]
  },
  {
   "cell_type": "code",
   "execution_count": null,
   "metadata": {},
   "outputs": [],
   "source": [
    "copy_to_sql(iris_df.iloc[:120], table_name = \"iris_train\", index=True, index_label=\"idx\", if_exists=\"replace\")\n",
    "copy_to_sql(iris_df.iloc[120:], table_name = \"iris_to_score\", index=True, index_label=\"idx\", if_exists=\"replace\")"
   ]
  },
  {
   "cell_type": "markdown",
   "metadata": {},
   "source": [
    "### Read train data from DB and prepare datasets "
   ]
  },
  {
   "cell_type": "code",
   "execution_count": null,
   "metadata": {},
   "outputs": [],
   "source": [
    "import pandas as pd\n",
    "train_pd = pd.read_sql(\"select * from ivsm_user.iris_train\", conn)\n",
    "\n",
    "X = train_pd[['sepal_length', 'sepal_width', 'petal_length', 'petal_width']]\n",
    "y = train_pd[['species']]"
   ]
  },
  {
   "cell_type": "code",
   "execution_count": null,
   "metadata": {},
   "outputs": [],
   "source": [
    "train_pd.head()"
   ]
  },
  {
   "cell_type": "markdown",
   "metadata": {},
   "source": [
    "### Train the model"
   ]
  },
  {
   "cell_type": "code",
   "execution_count": null,
   "metadata": {},
   "outputs": [],
   "source": [
    "pipeline = PMMLPipeline([\n",
    "    (\"classifier\", RandomForestClassifier())\n",
    "])\n",
    "pipeline.fit(X, y.values.ravel())"
   ]
  },
  {
   "cell_type": "markdown",
   "metadata": {},
   "source": [
    "### Export model to PMML"
   ]
  },
  {
   "cell_type": "code",
   "execution_count": null,
   "metadata": {},
   "outputs": [],
   "source": [
    "sklearn2pmml(pipeline, \"model.pmml\", with_repr = True)"
   ]
  },
  {
   "cell_type": "markdown",
   "metadata": {},
   "source": [
    "### Load model to DB"
   ]
  },
  {
   "cell_type": "code",
   "execution_count": null,
   "metadata": {
    "scrolled": true
   },
   "outputs": [],
   "source": [
    "#clean before fill\n",
    "cursor.execute(\"delete from ivsm_user.aoa_ivsm_models where model_version = 'iris_model'\")\n",
    "model_bytes = open(\"iris_model.pmml\", \"rb\").read()\n",
    "cursor.execute(\"insert into ivsm_user.aoa_ivsm_models (model_version, model_id, project_id, model) values(?,?,?,?)\", \n",
    "               (\"iris_model\", \"iris_model\", \"project\", model_bytes))"
   ]
  },
  {
   "cell_type": "markdown",
   "metadata": {},
   "source": [
    "### Score the data"
   ]
  },
  {
   "cell_type": "code",
   "execution_count": null,
   "metadata": {},
   "outputs": [],
   "source": [
    "pd.read_sql(\"select * from ivsm_user.aoa_ivsm_models\", conn)"
   ]
  },
  {
   "cell_type": "code",
   "execution_count": null,
   "metadata": {},
   "outputs": [],
   "source": [
    "pd.read_sql(\"select * from ivsm_user.aoa_model_61ce3b37\", conn)"
   ]
  },
  {
   "cell_type": "code",
   "execution_count": null,
   "metadata": {},
   "outputs": [],
   "source": [
    "#clean before fill\n",
    "cursor.execute(\"delete from ivsm_user.iris_scoring_results\")\n",
    "\n",
    "ts = time.time()\n",
    "\n",
    "query=\"\"\"\n",
    "insert into ivsm_user.iris_scoring_results\n",
    "select * from ivsm.IVSM_SCORE(\n",
    "    on ivsm_user.iris_to_score\n",
    "    on ivsm_user.aoa_model_61ce3b37 DIMENSION\n",
    "    using\n",
    "        ModelID('61ce3b37-90d0-45e1-aa93-b4b0995ac52f')\n",
    "        ColumnsToPreserve('idx')\n",
    "        ModelType('PMML')\n",
    "        ModelSpecificSettings('PMML_OUTPUT_TYPE=ALL')\n",
    ") sc;\n",
    "\n",
    "\"\"\"\n",
    "\n",
    "cursor.execute(query)\n",
    "\n",
    "print(\"Time, spent for scoring (seconds):\", \"%.2f\"%(time.time() - ts))"
   ]
  },
  {
   "cell_type": "code",
   "execution_count": null,
   "metadata": {},
   "outputs": [],
   "source": [
    "# Sample scoring results\n",
    "\n",
    "pd.options.display.max_colwidth = 250\n",
    "pd.read_sql(\"select top 10 * from ivsm_user.iris_scoring_results\", conn)"
   ]
  },
  {
   "cell_type": "code",
   "execution_count": null,
   "metadata": {},
   "outputs": [],
   "source": [
    "# Aggregate output and JSON access\n",
    "\n",
    "\n",
    "query=\"\"\"\n",
    "select\n",
    "cast(score_result as json).JSONExtractValue('$.target_fields.y') as \"species\",\n",
    "count(*) as cnt\n",
    "from \n",
    "ivsm_user.iris_scoring_results\n",
    "group by 1\n",
    "\"\"\"\n",
    "\n",
    "pd.read_sql(query, conn)"
   ]
  }
 ],
 "metadata": {
  "kernelspec": {
   "display_name": "Python 3",
   "language": "python",
   "name": "python3"
  },
  "language_info": {
   "codemirror_mode": {
    "name": "ipython",
    "version": 3
   },
   "file_extension": ".py",
   "mimetype": "text/x-python",
   "name": "python",
   "nbconvert_exporter": "python",
   "pygments_lexer": "ipython3",
   "version": "3.6.10"
  }
 },
 "nbformat": 4,
 "nbformat_minor": 4
}
