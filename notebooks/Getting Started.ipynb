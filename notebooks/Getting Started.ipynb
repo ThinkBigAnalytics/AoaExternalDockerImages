{
 "cells": [
  {
   "cell_type": "markdown",
   "metadata": {
    "pycharm": {
     "name": "#%% md\n"
    }
   },
   "source": [
    "# Getting Started\n",
    "\n",
    "We have tried to make this a fully encapsulated environment for you to get started playing with Teradatas AnalyticOps Accelerator. \n",
    "\n",
    "If you find any bugs or have any questions, please write a message in the following Teams [Channel](https://teams.microsoft.com/l/channel/19%3a9f4d7a9e310e4e06b83eff321c42b930%40thread.skype/General?groupId=e6a014b6-efed-47af-be69-91fd8cadaf83&tenantId=9151cbaa-fc6b-4f48-89bb-8c4a71982138) and we will get back to you asap.\n",
    "\n",
    "## Useful Urls\n",
    "\n",
    "- [AOA Landing](http://home.aoa.local)\n",
    "- [AOA UI](http://dashboard.aoa.local)\n",
    "- [AOA API Swagger Documentation](http://api.aoa.local/docs/swagger-ui.html)\n",
    "- [AOA Demo Models Repository](https://github.com/ThinkBigAnalytics/AoaDemoModels)\n",
    "- [AOA JupyterHub](http://jupyter.aoa.local)\n",
    "- [AOA Scheduler](http://scheduler.aoa.local)\n",
    "\n",
    "## Use AOA CLI\n",
    "\n",
    "Lets clone the Git Repository associated with the Demo Models project. The CLI does this by querying the AOA API and finding the git repository associated with the repository you select. \n",
    "\n",
    "```bash\n",
    "aoa clone --project-id 23e1df4b-b630-47a1-ab80-7ad5385fcd8d --path AoaDemoModels\n",
    "```\n",
    "\n",
    "Note that you can execute this command without specifying the project id and it will allow you to chose which project to clone that you have access to.\n",
    "\n",
    "## Diabetes Demo\n",
    "\n",
    "Next you can open the Diabetes [notebook](./AoaDemoModels/model_definitions/03c9a01f-bd46-4e7c-9a60-4282039094e6/notebooks/Explore%20Diabetes.ipynb) and get started with it.\n",
    "\n",
    "- [Diabetes Demo Notebook](./AoaDemoModels/model_definitions/03c9a01f-bd46-4e7c-9a60-4282039094e6/notebooks/Explore%20Diabetes.ipynb)\n",
    "- [Demo Hospital Application](http://home.aoa.local/hospital/)\n",
    "- [Model Info API](http://serving.aoa.local/admin/modelinfo)\n",
    "\n",
    "## Credentials\n",
    "\n",
    "The following credentials are good to know\n",
    " \n",
    "| Service   |      Username      |    Password      |\n",
    "|----------|:-------------:|:-------------:|\n",
    "| AOA UI |  admin | admin |\n",
    "| AOA Scheduler | admin | admin |\n",
    "| AOA JupyterHub | admin | admin |\n",
    "| AOA JupyterHub | developer | developer |\n",
    "| AOA JupyterHub | user | user |\n"
   ]
  }
 ],
 "metadata": {
  "kernelspec": {
   "display_name": "Python 3",
   "language": "python",
   "name": "python3"
  },
  "language_info": {
   "codemirror_mode": {
    "name": "ipython",
    "version": 3
   },
   "file_extension": ".py",
   "mimetype": "text/x-python",
   "name": "python",
   "nbconvert_exporter": "python",
   "pygments_lexer": "ipython3",
   "version": "3.6.10"
  }
 },
 "nbformat": 4,
 "nbformat_minor": 4
}
