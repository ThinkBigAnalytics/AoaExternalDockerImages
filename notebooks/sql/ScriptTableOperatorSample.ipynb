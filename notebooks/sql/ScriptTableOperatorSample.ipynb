{
 "cells": [
  {
   "cell_type": "markdown",
   "metadata": {},
   "source": [
    "### This notebook is to provide an example of the Teradata SQL notebook using the Script Table Operator %runsto magic command. It will download and run a Python script on  Teradata Vantage. \n",
    "\n",
    "<b>Note that before running the Script Table Operator commands, you want to make sure that Teradata Vantage has Python libraries installed and that the user has the necessary permissions to install/replace/remove files and to run scripts.</b>\n",
    "\n",
    "<b>The example script uses the `numpy` Python module. Verify that the `numpy` library is installed by running the `%pyinfo module=NUM` magic command.</b>\n",
    "<p><b>***NOTE: To execute the SQL or magic command in the cell, press SHIFT+ENTER or the run button in the toolbar.</b>\n",
    "\n",
    "***"
   ]
  },
  {
   "cell_type": "markdown",
   "metadata": {},
   "source": [
    "Replace the STODemoUserName, systemName, user, and host values for your system."
   ]
  },
  {
   "cell_type": "code",
   "execution_count": null,
   "metadata": {},
   "outputs": [],
   "source": [
    "%var STODemoUserName=<stodemo username>, systemName=<connection name>, user=<user name>, host=<host name or IP>"
   ]
  },
  {
   "cell_type": "code",
   "execution_count": null,
   "metadata": {},
   "outputs": [],
   "source": [
    "%lsconnect"
   ]
  },
  {
   "cell_type": "markdown",
   "metadata": {},
   "source": [
    "### Add a connection definition for Teradata Vantage if it doesn't exist"
   ]
  },
  {
   "cell_type": "code",
   "execution_count": null,
   "metadata": {},
   "outputs": [],
   "source": [
    "%addconnect name=${systemName}, user=${user}, host=${host}"
   ]
  },
  {
   "cell_type": "markdown",
   "metadata": {},
   "source": [
    "### If not already granted, run the necessary GRANT statements for the STO user.\n",
    "<b>Note that you must connect to the system as a user that is authorized to grant privileges for the STO user.</b>"
   ]
  },
  {
   "cell_type": "code",
   "execution_count": null,
   "metadata": {},
   "outputs": [],
   "source": [
    "GRANT EXECUTE PROCEDURE ON SYSUIF.INSTALL_FILE TO ${STODemoUserName};"
   ]
  },
  {
   "cell_type": "code",
   "execution_count": null,
   "metadata": {},
   "outputs": [],
   "source": [
    "GRANT EXECUTE PROCEDURE ON SYSUIF.REPLACE_FILE TO ${STODemoUserName};"
   ]
  },
  {
   "cell_type": "code",
   "execution_count": null,
   "metadata": {},
   "outputs": [],
   "source": [
    "GRANT EXECUTE PROCEDURE ON SYSUIF.REMOVE_FILE TO ${STODemoUserName};"
   ]
  },
  {
   "cell_type": "code",
   "execution_count": null,
   "metadata": {},
   "outputs": [],
   "source": [
    "GRANT EXECUTE FUNCTION  ON TD_SYSFNLIB.SCRIPT to ${STODemoUserName};"
   ]
  },
  {
   "cell_type": "code",
   "execution_count": null,
   "metadata": {},
   "outputs": [],
   "source": [
    "GRANT EXECUTE ON SYSUIF.DEFAULT_AUTH to ${STODemoUserName};"
   ]
  },
  {
   "cell_type": "code",
   "execution_count": null,
   "metadata": {},
   "outputs": [],
   "source": [
    "GRANT CREATE EXTERNAL PROCEDURE ON stodemo TO stodemo"
   ]
  },
  {
   "cell_type": "markdown",
   "metadata": {},
   "source": [
    "### Connect "
   ]
  },
  {
   "cell_type": "code",
   "execution_count": null,
   "metadata": {},
   "outputs": [],
   "source": [
    "%connect ${systemName}"
   ]
  },
  {
   "cell_type": "markdown",
   "metadata": {},
   "source": [
    "### Show information about the version of Python installed on the active connection"
   ]
  },
  {
   "cell_type": "code",
   "execution_count": null,
   "metadata": {},
   "outputs": [],
   "source": [
    "%pyinfo"
   ]
  },
  {
   "cell_type": "markdown",
   "metadata": {},
   "source": [
    "### Show information about the version of Python with only the modues starting with \"num\""
   ]
  },
  {
   "cell_type": "code",
   "execution_count": null,
   "metadata": {},
   "outputs": [],
   "source": [
    "%pyinfo module=NUM"
   ]
  },
  {
   "cell_type": "markdown",
   "metadata": {},
   "source": [
    "## Show the help for the runsto magic"
   ]
  },
  {
   "cell_type": "code",
   "execution_count": null,
   "metadata": {},
   "outputs": [],
   "source": [
    "%help runsto"
   ]
  },
  {
   "cell_type": "markdown",
   "metadata": {},
   "source": [
    "### The cell magic variant of runsto will install the script then run it. The script follows the command line."
   ]
  },
  {
   "cell_type": "markdown",
   "metadata": {},
   "source": [
    "### First, make sure the test file is not installed (using the %rmfile magic)."
   ]
  },
  {
   "cell_type": "code",
   "execution_count": null,
   "metadata": {},
   "outputs": [],
   "source": [
    "%rmfile regname=stoTest, prompt=true"
   ]
  },
  {
   "cell_type": "markdown",
   "metadata": {},
   "source": [
    "### The example script executes a SELECT statement against the `ex2tbl` table, looking for `ObjsID < 400`. You can create a similar table and insert test data or choose a different table and query for your Script Table Operator. Replace \"stodemo\" with the STO user name you specified above.\n",
    "***\n",
    "<pre>\n",
    "CREATE MULTISET TABLE stodemo.ex2tbl ,NO FALLBACK ,\n",
    "     NO BEFORE JOURNAL,\n",
    "     NO AFTER JOURNAL,\n",
    "     CHECKSUM = DEFAULT,\n",
    "     DEFAULT MERGEBLOCKRATIO,\n",
    "     MAP = TD_MAP1\n",
    "     (\n",
    "      ObsID INTEGER,\n",
    "      RandSeed FLOAT)\n",
    "UNIQUE PRIMARY INDEX ( ObsID );\n",
    "\n",
    "INSERT INTO \"stodemo\".\"ex2tbl\"  (\"ObsID\", \"RandSeed\")  VALUES(\"ObsID\" [INTEGER ],\"RandSeed\" [FLOAT ]) ;\n",
    "***\n",
    "### Run the following %%runsto magic to install a Python script onto Teradata Vantage."
   ]
  },
  {
   "cell_type": "code",
   "execution_count": null,
   "metadata": {},
   "outputs": [],
   "source": [
    "%%runsto consumesql = \"SELECT COUNT(*) AS nSims, \n",
    "       AVG(CAST (oc1 AS INT)) AS AvgCustomers, \n",
    "       AVG(CAST (oc2 AS INT)) AS AvgReneged,\n",
    "       AVG(CAST (oc3 AS FLOAT)) AS AvgWaitTime FROM\", \\\n",
    "on=select * from ex2tbl where ObsID < 400,\\\n",
    "returns = \"oc1 VARCHAR(10), oc2 VARCHAR(10), oc3 VARCHAR(50)\",\\\n",
    "filename=stoTest.py, regname=stoTest, replacefile=false\n",
    "\n",
    "\"\"\"\n",
    "* The contents of this file are Teradata Public Content \n",
    "* and have been released to the Public Domain.\n",
    "* Please see license.txt file in the package for more information.\n",
    "* Alexander Kolovos - 4 Sep 2015 - v.1.2\n",
    "* Copyright 2019-2021 Teradata. All rights reserved.\n",
    "* Licensed under BSD\n",
    "\n",
    "R And Python Analytics with the SCRIPT Table Operator\n",
    "Orange Book supplementary material\n",
    "Example 2 - Simulation - Python\n",
    "\n",
    "Simulation Bank renege example taken from:\n",
    "https://simpy.readthedocs.org/en/latest/examples/bank_renege.html\n",
    "Scenario:\n",
    "  A counter with a random service time and customers who renege. Based on the\n",
    "  program bank08.py from TheBank tutorial of SimPy 2. (KGM)\n",
    "\n",
    "Requires random, numpy, sys and simpy packages.\n",
    "\n",
    "Required input:\n",
    "- table ex2tbl defined in ex2dataTblDef.txt\n",
    "- ex2tbl data from file ex2data.txt\n",
    "\n",
    "Input parameters:\n",
    "INTERVAL_CUSTOMERS : Time interval (minutes) between customer entries\n",
    "MIN_PATIENCE       : Minimum time (minutes) customers will wait\n",
    "MAX_PATIENCE       : Maximum time (minutes) customers will wait\n",
    "TIME_IN_BANK       : Time (minutes) a customer spends being served\n",
    "MAX_MINUTES        : Process observation time (minutes)\n",
    "\n",
    "Output:\n",
    "Number of customers that visited in MAX_MINUTES\n",
    "Number of customers that reneged in MAX_MINUTES\n",
    "Average waiting time per customer\n",
    "\n",
    "\"\"\"\n",
    "import random\n",
    "import simpy\n",
    "import numpy as np\n",
    "import sys\n",
    "\n",
    "DELIMITER='\\t'\n",
    "\n",
    "# Load data from table, one row at a time\n",
    "# Expecting table with 2 columns: ObsID, RandomSeed\n",
    "tbldatalist = []\n",
    "while 1:\n",
    "    try:\n",
    "        line = input()\n",
    "        if line == '':   # Exit if user provides blank line\n",
    "            break\n",
    "        else:\n",
    "            allnum = line.split(DELIMITER)\n",
    "            allnum = [x.replace(\" \",\"\") for x in allnum]\n",
    "            tbldatalist.append(allnum)\n",
    "    except (EOFError):   # Exit if reached EOF or CTRL-D\n",
    "        break\n",
    "        \n",
    "ndl = len(tbldatalist)\n",
    "\n",
    "# If the present AMP has no data, then exit this script instance.\n",
    "if ndl == 0:\n",
    "    sys.exit()\n",
    "\n",
    "# Assumes data set has ObsID in col 1, RandomSeed in col 2\n",
    "nDataCols = 2\n",
    "# Convert list into array\n",
    "tbldata = np.array(tbldatalist).reshape(ndl,nDataCols)\n",
    "del tbldatalist\n",
    "\n",
    "obsID = tbldata[:,0]\n",
    "randSeed = tbldata[:,1]\n",
    "\n",
    "# set the variables to default values in case they're not specified on the command line\n",
    "INTERVAL_CUSTOMERS = 4\n",
    "MIN_PATIENCE = 5\n",
    "MAX_PATIENCE = 10\n",
    "TIME_IN_BANK = 6\n",
    "MAX_MINUTES = 480\n",
    "\n",
    "if len(sys.argv) > 1:\n",
    "    INTERVAL_CUSTOMERS = sys.argv[1]\n",
    "if len(sys.argv) > 2:\n",
    "    MIN_PATIENCE = sys.argv[2]\n",
    "if len(sys.argv) > 3:\n",
    "    MAX_PATIENCE = sys.argv[3]\n",
    "if len(sys.argv) > 4:\n",
    "    TIME_IN_BANK = sys.argv[4]\n",
    "if len(sys.argv) > 5:\n",
    "    MAX_MINUTES = sys.argv[5]\n",
    "\n",
    "RANDOM_SEED = 20           # A default random seed value. Here, seeds are input\n",
    "INTERVAL_CUSTOMERS = 4.0   # Generate new customers roughly every x minutes\n",
    "MIN_PATIENCE = 5           # Min. customer patience\n",
    "MAX_PATIENCE = 10          # Max. customer patience\n",
    "TIME_IN_BANK = 6.0         # Minutes a customer spends being served\n",
    "MAX_MINUTES = 480          # Minutes to observe system behavior\n",
    "\n",
    "def source(env, interval, counter):\n",
    "    \"\"\"Source generates customers randomly\"\"\"\n",
    "    global iCust\n",
    "    iCust = 0\n",
    "    while 1:\n",
    "        iCust += 1\n",
    "        c = customer(env, 'Customer%02d' % iCust, counter, TIME_IN_BANK)\n",
    "        env.process(c)\n",
    "        t = random.expovariate(1.0 / interval)\n",
    "        yield env.timeout(t)\n",
    "\n",
    "def customer(env, name, counter, time_in_bank):\n",
    "    \"\"\"Customer arrives, is served and leaves.\"\"\"\n",
    "    arrive = env.now\n",
    "\n",
    "    with counter.request() as req:\n",
    "        patience = random.uniform(MIN_PATIENCE, MAX_PATIENCE)\n",
    "        # Wait for the counter or abort at the end of our tether\n",
    "        results = yield req | env.timeout(patience)\n",
    "\n",
    "        wait = env.now - arrive\n",
    "        global totWait\n",
    "        totWait += wait\n",
    "        global totReneged\n",
    "\n",
    "        if req in results:\n",
    "            # We got to the counter\n",
    "\n",
    "            tib = random.expovariate(1.0 / time_in_bank)\n",
    "            yield env.timeout(tib)\n",
    "\n",
    "        else:\n",
    "            # We reneged\n",
    "            totReneged += 1\n",
    "\n",
    "# Setup and start the simulation\n",
    "for i in range( 0, len(randSeed) ):\n",
    "    global totWait\n",
    "    totWait = 0\n",
    "    global totReneged\n",
    "    totReneged = 0\n",
    "    seedNo = randSeed[i]\n",
    "    random.seed( seedNo )\n",
    "    env = simpy.Environment()\n",
    "    \n",
    "    # Start processes and run\n",
    "    counter = simpy.Resource(env, capacity=1)\n",
    "    env.process(source(env, INTERVAL_CUSTOMERS, counter))\n",
    "    env.run( until=MAX_MINUTES )\n",
    "    \n",
    "    print(iCust, DELIMITER, totReneged, DELIMITER, totWait/iCust)\n"
   ]
  },
  {
   "cell_type": "code",
   "execution_count": null,
   "metadata": {},
   "outputs": [],
   "source": [
    "%showfile stoTest"
   ]
  },
  {
   "cell_type": "markdown",
   "metadata": {},
   "source": [
    "### Once the file has been installed, it can be run using the %runsto magic without including the script.\n",
    "#### Run the SCRIPT table operator with only required parameters (script file already installed)\n",
    "* ON specifies the contents of a table as the input to the script\n",
    "* RETURNS specifies the output columns\n",
    "* FILENAME specifies the script file name\n",
    "\n",
    "All the output from the script is returned (no \"consumesql\" parameter)\n",
    "#### In the example below we are referring to an existing table called `ex2tblshort` to provide input to the script. You can create the similar table and load data into it or use one on your own tables.  Replace \"stodemo\" with the STO user name you specified above.\n",
    "***\n",
    "<pre>\n",
    "CREATE MULTISET TABLE stodemo.ex2tblshort ,NO FALLBACK ,\n",
    "     NO BEFORE JOURNAL,\n",
    "     NO AFTER JOURNAL,\n",
    "     CHECKSUM = DEFAULT,\n",
    "     DEFAULT MERGEBLOCKRATIO,\n",
    "     MAP = TD_MAP1\n",
    "     (\n",
    "      ObsID INTEGER,\n",
    "      RandSeed FLOAT)\n",
    "UNIQUE PRIMARY INDEX ( ObsID );\n",
    "\n",
    "INSERT INTO \"stodemo\".\"ex2tblshort\"  (\"ObsID\", \"RandSeed\")  VALUES(\"ObsID\" [INTEGER ],\"RandSeed\" [FLOAT ]) ;\n",
    "***"
   ]
  },
  {
   "cell_type": "code",
   "execution_count": null,
   "metadata": {},
   "outputs": [],
   "source": [
    "%runsto \n",
    "on=ex2tblshort,\n",
    "returns = \"oc1 VARCHAR(10), oc2 VARCHAR(10), oc3 VARCHAR(50)\",\n",
    "filename=stoTest.py"
   ]
  },
  {
   "cell_type": "markdown",
   "metadata": {},
   "source": [
    "### Run the SCRIPT table operator as above but with the COMMAND parameter.\n",
    "#### The \"command\" parameter is specified because the script is being given command-line arguments. The \"%s\" indicates where the script file name is to be inserted into the conmand."
   ]
  },
  {
   "cell_type": "code",
   "execution_count": null,
   "metadata": {},
   "outputs": [],
   "source": [
    "%runsto \n",
    "on=ex2tblshort,\n",
    "returns = \"oc1 VARCHAR(10), oc2 VARCHAR(10), oc3 VARCHAR(50)\",\n",
    "filename=stoTest.py,\n",
    "command= \"python3 %s 4 5 10 6 480\""
   ]
  },
  {
   "cell_type": "markdown",
   "metadata": {},
   "source": [
    "### Run the SCRIPT table operator as before except count and average the script output columns\n",
    "#### The \"consumesql\" parameter specifies a query that will read the script's output data"
   ]
  },
  {
   "cell_type": "code",
   "execution_count": null,
   "metadata": {},
   "outputs": [],
   "source": [
    "%runsto \n",
    "consumesql = \"SELECT COUNT(*) AS nSims,\n",
    "       AVG(CAST (oc1 AS INT)) AS AvgCustomers, \n",
    "       AVG(CAST (oc2 AS INT)) AS AvgReneged,\n",
    "       AVG(CAST (oc3 AS FLOAT)) AS AvgWaitTime FROM\",\n",
    "on=ex2tblshort,\n",
    "returns = \"oc1 VARCHAR(10), oc2 VARCHAR(10), oc3 VARCHAR(50)\",\n",
    "filename=stoTest.py"
   ]
  },
  {
   "cell_type": "markdown",
   "metadata": {},
   "source": [
    "### Run the SCRIPT table operator with the results of a query as its input\n",
    "#### The \"on\" parameter specifies a query"
   ]
  },
  {
   "cell_type": "code",
   "execution_count": null,
   "metadata": {},
   "outputs": [],
   "source": [
    "%runsto \n",
    "consumesql = \"SELECT COUNT(*) AS nSims,\n",
    "       AVG(CAST (oc1 AS INT)) AS AvgCustomers, \n",
    "       AVG(CAST (oc2 AS INT)) AS AvgReneged,\n",
    "       AVG(CAST (oc3 AS FLOAT)) AS AvgWaitTime FROM\",\n",
    "on=select * from ex2tbl where ObsID < 400,\n",
    "returns = \"oc1 VARCHAR(10), oc2 VARCHAR(10), oc3 VARCHAR(50)\",\n",
    "filename=stoTest.py"
   ]
  },
  {
   "cell_type": "markdown",
   "metadata": {},
   "source": [
    "### Run the SCRIPT table operator and insert its output into another table.\n",
    "#### The \"consumesql\" parameter specifies an INSERT/SELECT that inserts the results of the script into a table."
   ]
  },
  {
   "cell_type": "code",
   "execution_count": null,
   "metadata": {},
   "outputs": [],
   "source": [
    "drop table ${STODemoUserName}.STAGE;"
   ]
  },
  {
   "cell_type": "code",
   "execution_count": null,
   "metadata": {},
   "outputs": [],
   "source": [
    "CREATE TABLE ${STODemoUserName}.STAGE\n",
    "     (\n",
    "      c1 varchar(10),\n",
    "      c2 varchar(10),\n",
    "      c3 varchar(50));"
   ]
  },
  {
   "cell_type": "code",
   "execution_count": null,
   "metadata": {},
   "outputs": [],
   "source": [
    "%runsto\n",
    "consumesql = \"INSERT INTO ${STODemoUserName}.STAGE(c1, c2, c3) SELECT * FROM\",\n",
    "on=ex2tblshort,\n",
    "returns = \"oc1 VARCHAR(10), oc2 VARCHAR(10), oc3 VARCHAR(50)\",\n",
    "filename=stoTest.py"
   ]
  },
  {
   "cell_type": "code",
   "execution_count": null,
   "metadata": {},
   "outputs": [],
   "source": [
    "SELECT * FROM ${STODemoUserName}.STAGE;"
   ]
  },
  {
   "cell_type": "markdown",
   "metadata": {},
   "source": [
    "### The following two cells illustrate what is being run when the %runsto magic is run"
   ]
  },
  {
   "cell_type": "code",
   "execution_count": null,
   "metadata": {},
   "outputs": [],
   "source": [
    "SET SESSION SEARCHUIFDBPATH = \"${STODemoUserName}\""
   ]
  },
  {
   "cell_type": "code",
   "execution_count": null,
   "metadata": {},
   "outputs": [],
   "source": [
    "SELECT * FROM \n",
    "SCRIPT(\n",
    "      ON ex2tblshort\n",
    "      SCRIPT_COMMAND('python3 ./${STODemoUserName}/stoTest.py')\n",
    "      RETURNS ('oc1 VARCHAR(10), oc2 VARCHAR(10), oc3 VARCHAR(50)')\n",
    ")"
   ]
  },
  {
   "cell_type": "markdown",
   "metadata": {},
   "source": [
    "### Run a script that contains a syntax error. The lines in the script log from the server that are the result of running the script are shown.\n",
    "#### The example below assumes there is an `ex2pERR.py` file on the system. You can use the above example `stoTest.py` and force an error in the script to demonstrate the error handling."
   ]
  },
  {
   "cell_type": "code",
   "execution_count": null,
   "metadata": {},
   "outputs": [],
   "source": [
    "%runsto \n",
    "on=ex2tblshort,\n",
    "returns = \"oc1 VARCHAR(10), oc2 VARCHAR(10), oc3 VARCHAR(50)\",\n",
    "filename=ex2pERR.py"
   ]
  },
  {
   "cell_type": "code",
   "execution_count": null,
   "metadata": {},
   "outputs": [],
   "source": [
    "%showfile ex2pERR"
   ]
  },
  {
   "cell_type": "markdown",
   "metadata": {},
   "source": [
    "### Script files (and data files) can be installed without running them using the %installfile magic"
   ]
  },
  {
   "cell_type": "code",
   "execution_count": null,
   "metadata": {},
   "outputs": [],
   "source": [
    "%help installfile"
   ]
  },
  {
   "cell_type": "markdown",
   "metadata": {},
   "source": [
    "#### Run the %rmfile to remove the file in case it is already installed."
   ]
  },
  {
   "cell_type": "code",
   "execution_count": null,
   "metadata": {},
   "outputs": [],
   "source": [
    "%rmfile regname=stoTest2"
   ]
  },
  {
   "cell_type": "markdown",
   "metadata": {},
   "source": [
    "#### Install the file\n",
    "The localfile parameter value can include the full path name of the file or it can be relative to the current directory.\n",
    "If the file is a binary file, you will need to set the text parameter value to false.\n",
    "#### The example below assumes there is a Python file called `ex2p.py` on your local machine."
   ]
  },
  {
   "cell_type": "code",
   "execution_count": null,
   "metadata": {},
   "outputs": [],
   "source": [
    "%installfile regname=stoTest2, filename=stoTest2.py, localfile=ex2p.py, text=true"
   ]
  },
  {
   "cell_type": "markdown",
   "metadata": {},
   "source": [
    "#### If the file gets modified and needs to be replaced, include the \"replace=true\" parameter.\n",
    "The text parameter can be omitted for text files."
   ]
  },
  {
   "cell_type": "code",
   "execution_count": null,
   "metadata": {},
   "outputs": [],
   "source": [
    "%installfile regname=stoTest2, filename=stoTest2.py, localfile=ex2p.py, replace=true"
   ]
  },
  {
   "cell_type": "markdown",
   "metadata": {},
   "source": [
    "#### Remove the file.\n",
    "The prompt=false parameter says that confirmation isn't required'"
   ]
  },
  {
   "cell_type": "code",
   "execution_count": null,
   "metadata": {},
   "outputs": [],
   "source": [
    "%rmfile regname=stoTest2, prompt=false"
   ]
  },
  {
   "cell_type": "markdown",
   "metadata": {},
   "source": [
    "Copyright 2019-2021 Teradata. All rights reserved."
   ]
  }
 ],
 "metadata": {
  "kernelspec": {
   "display_name": "Teradata SQL",
   "language": "Teradata SQL",
   "name": "teradatasql"
  },
  "language_info": {
   "codemirror_mode": "Teradata SQL",
   "file_extension": ".tdrs",
   "mimetype": "application/vnd.teradata.resultset",
   "name": "Teradata SQL",
   "nbconvert_exporter": "",
   "pygments_lexer": "",
   "version": "16.20"
  }
 },
 "nbformat": 4,
 "nbformat_minor": 4
}
