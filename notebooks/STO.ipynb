{
 "cells": [
  {
   "cell_type": "markdown",
   "metadata": {},
   "source": [
    "### Setup Connection to Vantage"
   ]
  },
  {
   "cell_type": "code",
   "execution_count": null,
   "metadata": {},
   "outputs": [],
   "source": [
    "from teradataml.dataframe.dataframe import DataFrame\n",
    "from tdextensions.distributed import DistDataFrame, DistMode\n",
    "from teradataml import create_context\n",
    "import pandas as pd\n",
    "import numpy as np\n",
    "\n",
    "pd.options.display.max_colwidth = 250\n",
    "\n",
    "engine = create_context(host=\"host.docker.internal\", username=\"ivsm_user\", password=\"ivsm_user\")"
   ]
  },
  {
   "cell_type": "code",
   "execution_count": null,
   "metadata": {},
   "outputs": [],
   "source": [
    "df = DataFrame(\"iris_train\")\n",
    "df.head()"
   ]
  },
  {
   "cell_type": "markdown",
   "metadata": {},
   "source": [
    "### Perform a simple row level transformation "
   ]
  },
  {
   "cell_type": "code",
   "execution_count": null,
   "metadata": {},
   "outputs": [],
   "source": [
    "def my_fun(row):\n",
    "    return np.array([row.idx, row.sepal_length * row.sepal_width])\n",
    "\n",
    "df = DistDataFrame(\"iris_train\", dist_mode=DistMode.STO, sto_id=\"my_dumb_map\")\n",
    "df = df.map(lambda row: my_fun(row), \n",
    "            returns=[[\"idx\", \"INTEGER\"], [\"my_derived_col\", \"INTEGER\"]])\n",
    "\n",
    "df.to_pandas().head()"
   ]
  },
  {
   "cell_type": "markdown",
   "metadata": {},
   "source": [
    "### Train a model per data partition"
   ]
  },
  {
   "cell_type": "code",
   "execution_count": null,
   "metadata": {},
   "outputs": [],
   "source": [
    "from sklearn.ensemble import RandomForestClassifier\n",
    "import base64\n",
    "import dill\n",
    "\n",
    "def train(partition):\n",
    "    X = partition[['sepal_length', 'sepal_width', 'petal_length', 'petal_width']]\n",
    "    y = partition[['species']]\n",
    "    \n",
    "    clf = RandomForestClassifier()\n",
    "    clf.fit(X, y.values.ravel())\n",
    "    \n",
    "    return np.array([[partition.species.iloc[0], \"my_model_id\", base64.b64encode(dill.dumps(clf))]])\n",
    "\n",
    "df = DistDataFrame(\"iris_train\", dist_mode=DistMode.STO, sto_id=\"my_model_train\")\n",
    "df = df.map_partition(lambda partition: train(partition), \n",
    "                      partition_by=\"species\",\n",
    "                      returns=[[\"partition_id\", \"VARCHAR(255)\"], \n",
    "                               [\"model_id\", \"VARCHAR(255)\"],\n",
    "                               [\"model_artefact\", \"CLOB\"]])\n",
    "\n",
    "df.to_pandas().head()"
   ]
  }
 ],
 "metadata": {
  "kernelspec": {
   "display_name": "Python 3",
   "language": "python",
   "name": "python3"
  },
  "language_info": {
   "codemirror_mode": {
    "name": "ipython",
    "version": 3
   },
   "file_extension": ".py",
   "mimetype": "text/x-python",
   "name": "python",
   "nbconvert_exporter": "python",
   "pygments_lexer": "ipython3",
   "version": "3.6.10"
  }
 },
 "nbformat": 4,
 "nbformat_minor": 4
}
