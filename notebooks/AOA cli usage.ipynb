{
 "cells": [
  {
   "cell_type": "markdown",
   "metadata": {},
   "source": [
    "# Analytic Ops CLI\n",
    "\n",
    "Python client for Teradata AnalyticOps Accelerator. It is composed of both an client API implementation to access the AOA Core APIs and a command line interface (cli) tool which can be used for many common tasks. \n",
    "\n",
    "## Installation\n",
    "\n",
    "You can install via pip. The minimum python version required is 3.5+\n"
   ]
  },
  {
   "cell_type": "code",
   "execution_count": null,
   "metadata": {},
   "outputs": [],
   "source": [
    "pip install aoa"
   ]
  },
  {
   "cell_type": "markdown",
   "metadata": {},
   "source": [
    "## CLI\n",
    "\n",
    "The cli can be used to perform a number of interactions and guides the user to perform those actions. "
   ]
  },
  {
   "cell_type": "code",
   "execution_count": null,
   "metadata": {},
   "outputs": [],
   "source": [
    "aoa -h"
   ]
  },
  {
   "cell_type": "markdown",
   "metadata": {},
   "source": [
    "```\n",
    "usage: aoa [-h] [--debug] [--version]\n",
    "                 {list,add,run,init,clone,configure} ...\n",
    "\n",
    "AOA CLI\n",
    "\n",
    "optional arguments:\n",
    "  -h, --help            show this help message and exit\n",
    "  --debug               Enable debug logging\n",
    "  --version             Display the version of this tool\n",
    "\n",
    "actions:\n",
    "  valid actions\n",
    "\n",
    "  {list,add,run,init,clone,configure}\n",
    "    list                List projects, models, local models or datasets\n",
    "    add                 Add model\n",
    "    run                 Train and Evaluate model\n",
    "    init                Initialize model directory with basic structure\n",
    "    clone               Clone Project Repository\n",
    "    configure           Configure AOA client\n",
    "```"
   ]
  },
  {
   "cell_type": "markdown",
   "metadata": {},
   "source": [
    "### aoa configure\n",
    "\n",
    "If not already performed the configuration step, start by configuring the client for your user and your environment. This allows you to set the AOA API endpoint and the authentication information for the client (basic or kerberos). The cli stores this configuration information in the users home directory under `~/.aoa/config.yaml`. Note if you are using Kerberos, you will need to install an additional library (see the Kerberos section).\n",
    "\n",
    "You can also use the configure command with the `--repo` argument to set repository level configuration such as the projectId of the repo. This only needs to be set once and can be committed and pushed to the repository. Note that this configuration is stored in the `.aoa/config.yaml` of the repository directory!"
   ]
  },
  {
   "cell_type": "code",
   "execution_count": null,
   "metadata": {},
   "outputs": [],
   "source": [
    "aoa configure -h"
   ]
  },
  {
   "cell_type": "markdown",
   "metadata": {},
   "source": [
    "```\n",
    "usage: aoa configure [-h] [--repo] [--debug]\n",
    "\n",
    "optional arguments:\n",
    "-h, --help  show this help message and exit\n",
    "--repo      Configure the repo only\n",
    "--debug     Enable debug logging\n",
    "```\n",
    "\n",
    "### aoa clone\n",
    "\n",
    "The `clone` command provides a convenient way to perform a git clone of the repository associated with a given project. The command can be run interactively and will allow you to select the project you wish to clone. Note that by default it clones to the current working directly so you either need to make sure you create an empty folder and run it from within there or else provide the `--path ` argument."
   ]
  },
  {
   "cell_type": "code",
   "execution_count": null,
   "metadata": {},
   "outputs": [],
   "source": [
    "aoa clone -h"
   ]
  },
  {
   "cell_type": "markdown",
   "metadata": {},
   "source": [
    "```\n",
    "usage: aoa clone [-h] [-id PROJECT_ID] [-p PATH] [--debug]\n",
    "\n",
    "optional arguments:\n",
    "  -h, --help            show this help message and exit\n",
    "  -id PROJECT_ID, --project-id PROJECT_ID\n",
    "                        Id of Project to clone\n",
    "  -p PATH, --path PATH  Path to clone repository to\n",
    "  --debug               Enable debug logging\n",
    "```\n",
    "\n",
    "### aoa init\n",
    "\n",
    "When you create a git repository, its empty by default. The `init` command allows you to initialize the repository with the structure required by the AOA. It also adds a default README.md and HOWTO.md. "
   ]
  },
  {
   "cell_type": "code",
   "execution_count": null,
   "metadata": {},
   "outputs": [],
   "source": [
    "aoa init -h"
   ]
  },
  {
   "cell_type": "markdown",
   "metadata": {},
   "source": [
    "```\n",
    "usage: aoa init [-h] [--debug]\n",
    "\n",
    "optional arguments:\n",
    "  -h, --help  show this help message and exit\n",
    "  --debug     Enable debug logging\n",
    "```\n",
    "\n",
    "### aoa list\n",
    "\n",
    "Allows to list the aoa resources. In the cases of listing models (pushed / committed) and datasets, it will prompt the user to select a project prior showing the results. In the case of local models, it lists both committed and non-committed models."
   ]
  },
  {
   "cell_type": "code",
   "execution_count": null,
   "metadata": {},
   "outputs": [],
   "source": [
    "aoa list -h"
   ]
  },
  {
   "cell_type": "markdown",
   "metadata": {},
   "source": [
    "```\n",
    "> aoa list -h\n",
    "usage: aoa list [-h] [--debug] [-p] [-m] [-lm] [-d]\n",
    "\n",
    "optional arguments:\n",
    "  -h, --help           show this help message and exit\n",
    "  --debug              Enable debug logging\n",
    "  -p, --projects       List projects\n",
    "  -m, --models         List registered models (committed / pushed)\n",
    "  -lm, --local-models  List local models. Includes registered and non-\n",
    "                       registered (non-committed / non-pushed)\n",
    "  -d, --datasets       List datasets\n",
    "```\n",
    "All results are shown in the format\n",
    "```\n",
    "[index] (id of the resource) name\n",
    "```\n",
    "for example:\n",
    "```\n",
    "List of models for project Demo:\n",
    "--------------------------------\n",
    "[0] (03c9a01f-bd46-4e7c-9a60-4282039094e6) Diabetes Prediction\n",
    "[1] (74eca506-e967-48f1-92ad-fb217b07e181) IMDB Sentiment Analysis\n",
    "```\n",
    "\n",
    "### aoa add\n",
    "\n",
    "Adding a new model to a given repository requires a number of steps. You need to create the folder structure, configuration files, generate a modelId, etc. The `add` command is intended to simplify this for the user. It will interactively prompt you for the model name, language, description and even allow you to use a model template to get you started. This can really help reduce the boilerplate required and ensure you get started developing quicker while maintaining a standard repository structure."
   ]
  },
  {
   "cell_type": "code",
   "execution_count": null,
   "metadata": {},
   "outputs": [],
   "source": [
    "aoa add"
   ]
  },
  {
   "cell_type": "markdown",
   "metadata": {},
   "source": [
    "```\n",
    "model name: my new model\n",
    "model description: to show adding new models\n",
    "These languages are supported: R, python, sql\n",
    "model language: python\n",
    "templates available for python: empty, pyspark, sklearn\n",
    "template type (leave blank for the default one): \n",
    "```\n",
    "\n",
    "### aoa run\n",
    "\n",
    "The cli can be used to validate the model training and evaluation logic locally before committing to git. This simplifies the development lifecycle and allows you to test and validate many options. It also enables you to avoid creating the dataset definitions in the AOA UI until you are ready and have a finalised version. "
   ]
  },
  {
   "cell_type": "code",
   "execution_count": null,
   "metadata": {},
   "outputs": [],
   "source": [
    "aoa run -h"
   ]
  },
  {
   "cell_type": "markdown",
   "metadata": {},
   "source": [
    "```\n",
    "usage: aoa run [-h] [-id MODEL_ID] [-m MODE] [-d DATASET_ID]\n",
    "               [-ld LOCAL_DATASET] [--debug]\n",
    "\n",
    "optional arguments:\n",
    "  -h, --help            show this help message and exit\n",
    "  -id MODEL_ID, --model-id MODEL_ID\n",
    "                        Id of model\n",
    "  -m MODE, --mode MODE  Mode (train or evaluate)\n",
    "  -d DATASET_ID, --dataset-id DATASET_ID\n",
    "                        Remote datasetId\n",
    "  -ld LOCAL_DATASET, --local-dataset LOCAL_DATASET\n",
    "                        Path to local dataset metadata file\n",
    "  --debug               Enable debug logging\n",
    "```\n",
    "\n",
    "You can run all of this as a single command or interactively by selecting some of the optional arguments, or none of them. \n",
    "\n",
    "For example, if you want to run the cli interactively you just select `aoa run` but if you wanted to run it non interactively to train a given model with a given datasetId you would execte \n",
    "```\n",
    "> aoa run -id <modelId> -m <mode> -d <datasetId>\n",
    "```\n",
    "\n",
    "And if you wanted to select the model interactively but use a specific local dataset definition, you would execute"
   ]
  },
  {
   "cell_type": "code",
   "execution_count": null,
   "metadata": {},
   "outputs": [],
   "source": [
    "aoa run -ld /path/to/my_test_dataset.json"
   ]
  },
  {
   "cell_type": "markdown",
   "metadata": {},
   "source": [
    "### pyspark\n",
    "\n",
    "When using the aoa cli to train and evaluate pyspark models, there are a few additional points to be aware of. The cli for running a spark model works by configuring the `PYSPARK_SUBMIT_ARGS` which is what spark uses when creating the spark context in the model code. We also use the `findspark` library to find and configure spark based on the `SPARK_HOME` environment variable. \n",
    "\n",
    "```\n",
    "PYSPARK_SUBMIT_ARGS=\"--master <master> <args> --py-files <modules.zip> $AOA_SPARK_CONF\n",
    "```\n",
    "\n",
    "The `master` and `args` come from the same location as main AOA automation uses, i.e. the `model.json -> resources -> training` \n",
    "\n",
    "As you can see, the `AOA_SPARK_CONF` environment variable is appened to the end of the `PYSPARK_SUBMIT_ARGS` which means you can override any other the other values that go before it. You can specify any spark configuration option you want here and it will be passed to spark. \n",
    "\n",
    "As an example, if you are using conda pack with pyspark to ensure that python libraries you use on the driver node are available all over the cluster automatically with the job, you can add this information to the `AOA_SPARK_CONF` to automatically do this for you when running it via the cli. These can be added to the users bash profile to ensure they don't need to manually do this every time in a standard data science environment or even on their own laptops. "
   ]
  },
  {
   "cell_type": "code",
   "execution_count": null,
   "metadata": {},
   "outputs": [],
   "source": [
    "AOA_SPARK_CONF=\"--conf spark.pyspark.driver.python=python --conf spark.pyspark.python=./environment/bin/python --archives conda-env.tar.gz#environment\""
   ]
  },
  {
   "cell_type": "markdown",
   "metadata": {},
   "source": [
    "## Client API\n",
    "\n",
    "We have a client implementation for all of the entities exposed in the AOA API. We provide the RESTful and RPC client usage for this. We'll show an example of the Dataset API here but the same applies for all. \n",
    "\n",
    "By default, creating an instance of the `AoaClient()` will use the users aoa configuration stored in `~/.aoa/config.yaml`. You can override these values by passing the relevant constructor arguments or even with env variables."
   ]
  },
  {
   "cell_type": "code",
   "execution_count": null,
   "metadata": {},
   "outputs": [],
   "source": [
    "from aoa import AoaClient\n",
    "from aoa import DatasetApi\n",
    "\n",
    "\n",
    "client = AoaClient()\n",
    "client.set_project_id(\"23e1df4b-b630-47a1-ab80-7ad5385fcd8d\")\n",
    "\n",
    "dataset_api = DatasetApi(aoa_client=client)"
   ]
  },
  {
   "cell_type": "markdown",
   "metadata": {},
   "source": [
    "Now, find all datasets or a specific dataset"
   ]
  },
  {
   "cell_type": "code",
   "execution_count": null,
   "metadata": {},
   "outputs": [],
   "source": [
    "import pprint\n",
    "\n",
    "datasets = dataset_api.find_all()\n",
    "pprint.pprint(datasets)\n",
    "\n",
    "dataset = dataset_api.find_by_id(\"11e1df4b-b630-47a1-ab80-7ad5385fcd8c\")\n",
    "pprint.pprint(dataset)"
   ]
  },
  {
   "cell_type": "markdown",
   "metadata": {},
   "source": [
    "Add a dataset"
   ]
  },
  {
   "cell_type": "code",
   "execution_count": null,
   "metadata": {},
   "outputs": [],
   "source": [
    "dataset_definition = {\n",
    "    \"name\": \"my dataset\",\n",
    "    \"description\": \"adding sample dataset\",\n",
    "    \"metadata\": {\n",
    "        \"url\": \"http://nrvis.com/data/mldata/pima-indians-diabetes.csv\",\n",
    "        \"test_split\": \"0.2\"\n",
    "    }\n",
    "}\n",
    "\n",
    "dataset = dataset_api.save(dataset=dataset_definition)\n",
    "pprint.pprint(dataset)"
   ]
  }
 ],
 "metadata": {
  "kernelspec": {
   "display_name": "Python 3",
   "language": "python",
   "name": "python3"
  },
  "language_info": {
   "codemirror_mode": {
    "name": "ipython",
    "version": 3
   },
   "file_extension": ".py",
   "mimetype": "text/x-python",
   "name": "python",
   "nbconvert_exporter": "python",
   "pygments_lexer": "ipython3",
   "version": "3.8.6"
  }
 },
 "nbformat": 4,
 "nbformat_minor": 4
}
